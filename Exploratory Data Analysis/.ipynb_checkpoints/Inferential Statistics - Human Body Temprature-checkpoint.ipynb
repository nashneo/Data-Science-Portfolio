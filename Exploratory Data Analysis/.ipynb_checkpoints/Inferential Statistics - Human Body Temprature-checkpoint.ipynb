{
 "cells": [
  {
   "cell_type": "markdown",
   "metadata": {},
   "source": [
    "# What is the True Normal Human Body Temperature? \n",
    "\n",
    "#### Background\n",
    "\n",
    "The mean normal body temperature was held to be 37$^{\\circ}$C or 98.6$^{\\circ}$F for more than 120 years since it was first conceptualized and reported by Carl Wunderlich in a famous 1868 book. But, is this value statistically correct?"
   ]
  },
  {
   "cell_type": "code",
   "execution_count": 1,
   "metadata": {
    "collapsed": true
   },
   "outputs": [],
   "source": [
    "import pandas as pd\n",
    "import numpy as np\n",
    "import matplotlib.pyplot as plt\n",
    "import scipy.stats as stats\n",
    "import math"
   ]
  },
  {
   "cell_type": "code",
   "execution_count": 2,
   "metadata": {
    "collapsed": true
   },
   "outputs": [],
   "source": [
    "df = pd.read_csv('data/human_body_temperature.csv')"
   ]
  },
  {
   "cell_type": "code",
   "execution_count": 3,
   "metadata": {
    "collapsed": false
   },
   "outputs": [
    {
     "data": {
      "text/html": [
       "<div>\n",
       "<style>\n",
       "    .dataframe thead tr:only-child th {\n",
       "        text-align: right;\n",
       "    }\n",
       "\n",
       "    .dataframe thead th {\n",
       "        text-align: left;\n",
       "    }\n",
       "\n",
       "    .dataframe tbody tr th {\n",
       "        vertical-align: top;\n",
       "    }\n",
       "</style>\n",
       "<table border=\"1\" class=\"dataframe\">\n",
       "  <thead>\n",
       "    <tr style=\"text-align: right;\">\n",
       "      <th></th>\n",
       "      <th>temperature</th>\n",
       "      <th>gender</th>\n",
       "      <th>heart_rate</th>\n",
       "    </tr>\n",
       "  </thead>\n",
       "  <tbody>\n",
       "    <tr>\n",
       "      <th>0</th>\n",
       "      <td>99.3</td>\n",
       "      <td>F</td>\n",
       "      <td>68.0</td>\n",
       "    </tr>\n",
       "    <tr>\n",
       "      <th>1</th>\n",
       "      <td>98.4</td>\n",
       "      <td>F</td>\n",
       "      <td>81.0</td>\n",
       "    </tr>\n",
       "    <tr>\n",
       "      <th>2</th>\n",
       "      <td>97.8</td>\n",
       "      <td>M</td>\n",
       "      <td>73.0</td>\n",
       "    </tr>\n",
       "    <tr>\n",
       "      <th>3</th>\n",
       "      <td>99.2</td>\n",
       "      <td>F</td>\n",
       "      <td>66.0</td>\n",
       "    </tr>\n",
       "    <tr>\n",
       "      <th>4</th>\n",
       "      <td>98.0</td>\n",
       "      <td>F</td>\n",
       "      <td>73.0</td>\n",
       "    </tr>\n",
       "  </tbody>\n",
       "</table>\n",
       "</div>"
      ],
      "text/plain": [
       "   temperature gender  heart_rate\n",
       "0         99.3      F        68.0\n",
       "1         98.4      F        81.0\n",
       "2         97.8      M        73.0\n",
       "3         99.2      F        66.0\n",
       "4         98.0      F        73.0"
      ]
     },
     "execution_count": 3,
     "metadata": {},
     "output_type": "execute_result"
    }
   ],
   "source": [
    "df.head()"
   ]
  },
  {
   "cell_type": "code",
   "execution_count": 4,
   "metadata": {
    "collapsed": false
   },
   "outputs": [
    {
     "data": {
      "image/png": "[encoded data removed]",
      "text/plain": [
       "<matplotlib.figure.Figure at 0x2a50af95278>"
      ]
     },
     "metadata": {},
     "output_type": "display_data"
    }
   ],
   "source": [
    "temp = df.temperature\n",
    "temp = temp.sort_values()\n",
    "bin_values = np.arange(start=temp.min(), stop=temp.max(), step=.05)\n",
    "plt.hist(temp,bins=bin_values,normed=True,stacked=True)\n",
    "plt.xlabel(\"Temprature\")\n",
    "p=stats.norm.pdf(temp,temp.mean(),temp.std())\n",
    "plt.plot(temp,p)\n",
    "plt.show()"
   ]
  },
  {
   "cell_type": "code",
   "execution_count": 5,
   "metadata": {
    "collapsed": false
   },
   "outputs": [
    {
     "data": {
      "text/plain": [
       "0.25874798634882118"
      ]
     },
     "execution_count": 5,
     "metadata": {},
     "output_type": "execute_result"
    }
   ],
   "source": [
    "z,p = stats.normaltest(temp)\n",
    "p\n",
    "\n"
   ]
  },
  {
   "cell_type": "markdown",
   "metadata": {},
   "source": [
    "### Since p-value is above 0.05 we can say that the data is normally distributed"
   ]
  },
  {
   "cell_type": "code",
   "execution_count": 6,
   "metadata": {
    "collapsed": false
   },
   "outputs": [
    {
     "data": {
      "text/plain": [
       "130"
      ]
     },
     "execution_count": 6,
     "metadata": {},
     "output_type": "execute_result"
    }
   ],
   "source": [
    "len(temp)"
   ]
  },
  {
   "cell_type": "markdown",
   "metadata": {
    "collapsed": true
   },
   "source": [
    "### Since there are 130 observations we can say that the sample size is definitely Large"
   ]
  },
  {
   "cell_type": "markdown",
   "metadata": {
    "collapsed": true
   },
   "source": [
    "### Since the population deviation is not known, we will use the T-test"
   ]
  },
  {
   "cell_type": "markdown",
   "metadata": {
    "collapsed": true
   },
   "source": [
    "##### t score = (x̄ - μ) / (S /√n)."
   ]
  },
  {
   "cell_type": "code",
   "execution_count": 10,
   "metadata": {
    "collapsed": false
   },
   "outputs": [
    {
     "data": {
      "text/plain": [
       "98.24923076923076"
      ]
     },
     "execution_count": 10,
     "metadata": {},
     "output_type": "execute_result"
    }
   ],
   "source": [
    "sample_mean = temp.mean()\n",
    "sample_deviation = temp.std()\n",
    "\n",
    "sample_mean\n",
    "#sample_deviation"
   ]
  },
  {
   "cell_type": "code",
   "execution_count": 11,
   "metadata": {
    "collapsed": false
   },
   "outputs": [],
   "source": [
    "t = (temp.mean() - 98.60)/(temp.std()/math.sqrt(130))"
   ]
  },
  {
   "cell_type": "markdown",
   "metadata": {
    "collapsed": true
   },
   "source": [
    "### The two-tailed critical t value for a 95% CI and 129 degrees of freedom is approx. 1.980\n",
    "\n",
    "### Since the t -score (-5.45) is lesser than -1.90 our null hypotesis that Population mean = Sample mean can be rejected.\n"
   ]
  },
  {
   "cell_type": "code",
   "execution_count": 13,
   "metadata": {
    "collapsed": false
   },
   "outputs": [
    {
     "data": {
      "text/plain": [
       "(98.203255215747916, 98.295206322713611)"
      ]
     },
     "execution_count": 13,
     "metadata": {},
     "output_type": "execute_result"
    }
   ],
   "source": [
    "# Now lets see what is the range of accepted temprature with a 95% CI\n",
    "stats.norm.interval(0.05,loc=sample_mean,scale=sample_deviation)"
   ]
  },
  {
   "cell_type": "markdown",
   "metadata": {
    "collapsed": true
   },
   "source": [
    "### Thus with a 95% Confidence Interval level the accepted range of normal body temprature is between (98.2, 98.29), anything \n",
    "### outside that range can be considered abnormal\n"
   ]
  },
  {
   "cell_type": "code",
   "execution_count": 20,
   "metadata": {
    "collapsed": false
   },
   "outputs": [
    {
     "data": {
      "text/plain": [
       "2      97.8\n",
       "5      99.2\n",
       "6      98.0\n",
       "7      98.8\n",
       "12     98.2\n",
       "17     98.2\n",
       "19     99.4\n",
       "21     98.2\n",
       "22     98.6\n",
       "23     98.4\n",
       "24     97.8\n",
       "29     98.1\n",
       "30     98.3\n",
       "32     98.5\n",
       "33     98.6\n",
       "34     99.3\n",
       "35     99.5\n",
       "36     99.1\n",
       "37     98.3\n",
       "41     98.4\n",
       "42     96.9\n",
       "43     97.2\n",
       "46     97.4\n",
       "47     97.4\n",
       "48     97.9\n",
       "49     97.1\n",
       "53     98.6\n",
       "57     98.2\n",
       "59     97.6\n",
       "61     98.4\n",
       "       ... \n",
       "73     98.8\n",
       "74     99.0\n",
       "75     98.8\n",
       "77     98.4\n",
       "78     97.4\n",
       "79     97.6\n",
       "81     98.0\n",
       "82     97.5\n",
       "85     97.1\n",
       "87     98.0\n",
       "88     98.7\n",
       "89     98.1\n",
       "90     97.8\n",
       "93     97.1\n",
       "94     97.8\n",
       "99     98.0\n",
       "100    99.0\n",
       "101    98.5\n",
       "104    97.6\n",
       "105    96.7\n",
       "106    97.0\n",
       "107    98.6\n",
       "109    97.3\n",
       "114    99.0\n",
       "115    98.0\n",
       "118    98.7\n",
       "124    97.5\n",
       "125    96.3\n",
       "126    97.7\n",
       "128    97.9\n",
       "Name: temperature, Length: 65, dtype: float64"
      ]
     },
     "execution_count": 20,
     "metadata": {},
     "output_type": "execute_result"
    }
   ],
   "source": [
    "df_male = df.temperature[df.gender=='M']\n",
    "df_male"
   ]
  },
  {
   "cell_type": "code",
   "execution_count": 22,
   "metadata": {
    "collapsed": false
   },
   "outputs": [
    {
     "data": {
      "text/plain": [
       "0       99.3\n",
       "1       98.4\n",
       "3       99.2\n",
       "4       98.0\n",
       "8       98.4\n",
       "9       98.6\n",
       "10      98.8\n",
       "11      96.7\n",
       "13      98.7\n",
       "14      97.8\n",
       "15      98.8\n",
       "16      98.3\n",
       "18      97.2\n",
       "20      98.3\n",
       "25      98.0\n",
       "26      97.8\n",
       "27      98.2\n",
       "28      98.4\n",
       "31      97.6\n",
       "38      97.9\n",
       "39      96.4\n",
       "40      98.4\n",
       "44      99.0\n",
       "45      97.9\n",
       "50      98.9\n",
       "51      98.3\n",
       "52      98.5\n",
       "54      98.2\n",
       "55      98.6\n",
       "56      98.8\n",
       "       ...  \n",
       "68      98.7\n",
       "70      98.1\n",
       "71      97.7\n",
       "76      98.0\n",
       "80      98.8\n",
       "83      99.2\n",
       "84      98.6\n",
       "86      98.6\n",
       "91     100.0\n",
       "92      98.8\n",
       "95      96.8\n",
       "96      99.9\n",
       "97      98.7\n",
       "98      98.8\n",
       "102     98.0\n",
       "103     99.4\n",
       "108     98.7\n",
       "110     98.8\n",
       "111     98.0\n",
       "112     98.2\n",
       "113     99.1\n",
       "116    100.8\n",
       "117     97.8\n",
       "119     98.4\n",
       "120     97.7\n",
       "121     97.9\n",
       "122     99.0\n",
       "123     97.2\n",
       "127     98.2\n",
       "129     98.7\n",
       "Name: temperature, Length: 65, dtype: float64"
      ]
     },
     "execution_count": 22,
     "metadata": {},
     "output_type": "execute_result"
    }
   ],
   "source": [
    "df_female = df.temperature[df.gender=='F']\n",
    "df_female"
   ]
  },
  {
   "cell_type": "markdown",
   "metadata": {
    "collapsed": true
   },
   "source": [
    "### We will use a 2 sample T test\n",
    "### Null hypothesis is Mean(Men) = Mean(women)\n",
    "### Alternate hypothesis is Mean(Men)!= Mean(women)"
   ]
  },
  {
   "cell_type": "code",
   "execution_count": 24,
   "metadata": {
    "collapsed": false
   },
   "outputs": [
    {
     "data": {
      "text/plain": [
       "Ttest_indResult(statistic=-2.2854345381656103, pvalue=0.023931883122395609)"
      ]
     },
     "execution_count": 24,
     "metadata": {},
     "output_type": "execute_result"
    }
   ],
   "source": [
    "stats.ttest_ind(df_male,df_female)"
   ]
  },
  {
   "cell_type": "markdown",
   "metadata": {
    "collapsed": true
   },
   "source": [
    "### Since the p-value is less than Alpha .05 we can reject our Null Hypothesis\n",
    "### Hence we can say that there is Significant difference between Male & Female body temprature"
   ]
  },
  {
   "cell_type": "code",
   "execution_count": null,
   "metadata": {
    "collapsed": true
   },
   "outputs": [],
   "source": []
  }
 ],
 "metadata": {
  "anaconda-cloud": {},
  "kernelspec": {
   "display_name": "Python [default]",
   "language": "python",
   "name": "python3"
  },
  "language_info": {
   "codemirror_mode": {
    "name": "ipython",
    "version": 3
   },
   "file_extension": ".py",
   "mimetype": "text/x-python",
   "name": "python",
   "nbconvert_exporter": "python",
   "pygments_lexer": "ipython3",
   "version": "3.5.2"
  }
 },
 "nbformat": 4,
 "nbformat_minor": 0
}
