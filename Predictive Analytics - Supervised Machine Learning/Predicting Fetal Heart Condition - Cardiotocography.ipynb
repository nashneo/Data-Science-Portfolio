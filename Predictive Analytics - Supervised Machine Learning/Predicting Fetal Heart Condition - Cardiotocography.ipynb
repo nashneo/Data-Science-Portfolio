{
 "cells": [
  {
   "cell_type": "markdown",
   "metadata": {},
   "source": [
    "   # Detecting Fetal Heart Condition with ML using Cardiotocogram data\n",
    "\n",
    "![](https://media.giphy.com/media/nrNobmND75oRy/giphy.gif)"
   ]
  },
  {
   "cell_type": "code",
   "execution_count": 81,
   "metadata": {
    "collapsed": true
   },
   "outputs": [],
   "source": [
    "import pandas as pd\n",
    "import seaborn as sns\n",
    "import matplotlib.pyplot as plt\n",
    "import numpy as np\n",
    "from sklearn import datasets\n",
    "from sklearn.neighbors import KNeighborsClassifier\n",
    "from sklearn.ensemble import RandomForestClassifier\n",
    "from sklearn.model_selection import train_test_split\n",
    "from sklearn.decomposition import PCA\n",
    "from sklearn.grid_search import GridSearchCV\n",
    "import warnings\n",
    "warnings.filterwarnings('ignore')"
   ]
  },
  {
   "cell_type": "markdown",
   "metadata": {},
   "source": [
    "### Import data and perform initial cleaning on it"
   ]
  },
  {
   "cell_type": "code",
   "execution_count": 82,
   "metadata": {
    "collapsed": false
   },
   "outputs": [
    {
     "data": {
      "text/html": [
       "<div>\n",
       "<style>\n",
       "    .dataframe thead tr:only-child th {\n",
       "        text-align: right;\n",
       "    }\n",
       "\n",
       "    .dataframe thead th {\n",
       "        text-align: left;\n",
       "    }\n",
       "\n",
       "    .dataframe tbody tr th {\n",
       "        vertical-align: top;\n",
       "    }\n",
       "</style>\n",
       "<table border=\"1\" class=\"dataframe\">\n",
       "  <thead>\n",
       "    <tr style=\"text-align: right;\">\n",
       "      <th></th>\n",
       "      <th>FileName</th>\n",
       "      <th>Date</th>\n",
       "      <th>b</th>\n",
       "      <th>e</th>\n",
       "      <th>LBE</th>\n",
       "      <th>LB</th>\n",
       "      <th>AC</th>\n",
       "      <th>FM</th>\n",
       "      <th>UC</th>\n",
       "      <th>ASTV</th>\n",
       "      <th>...</th>\n",
       "      <th>C</th>\n",
       "      <th>D</th>\n",
       "      <th>E</th>\n",
       "      <th>AD</th>\n",
       "      <th>DE</th>\n",
       "      <th>LD</th>\n",
       "      <th>FS</th>\n",
       "      <th>SUSP</th>\n",
       "      <th>CLASS</th>\n",
       "      <th>NSP</th>\n",
       "    </tr>\n",
       "  </thead>\n",
       "  <tbody>\n",
       "    <tr>\n",
       "      <th>0</th>\n",
       "      <td>NaN</td>\n",
       "      <td>NaT</td>\n",
       "      <td>NaN</td>\n",
       "      <td>NaN</td>\n",
       "      <td>NaN</td>\n",
       "      <td>NaN</td>\n",
       "      <td>NaN</td>\n",
       "      <td>NaN</td>\n",
       "      <td>NaN</td>\n",
       "      <td>NaN</td>\n",
       "      <td>...</td>\n",
       "      <td>NaN</td>\n",
       "      <td>NaN</td>\n",
       "      <td>NaN</td>\n",
       "      <td>NaN</td>\n",
       "      <td>NaN</td>\n",
       "      <td>NaN</td>\n",
       "      <td>NaN</td>\n",
       "      <td>NaN</td>\n",
       "      <td>NaN</td>\n",
       "      <td>NaN</td>\n",
       "    </tr>\n",
       "    <tr>\n",
       "      <th>1</th>\n",
       "      <td>Variab10.txt</td>\n",
       "      <td>1996-12-01</td>\n",
       "      <td>240.0</td>\n",
       "      <td>357.0</td>\n",
       "      <td>120.0</td>\n",
       "      <td>120.0</td>\n",
       "      <td>0.0</td>\n",
       "      <td>0.0</td>\n",
       "      <td>0.0</td>\n",
       "      <td>73.0</td>\n",
       "      <td>...</td>\n",
       "      <td>0.0</td>\n",
       "      <td>0.0</td>\n",
       "      <td>0.0</td>\n",
       "      <td>0.0</td>\n",
       "      <td>0.0</td>\n",
       "      <td>0.0</td>\n",
       "      <td>1.0</td>\n",
       "      <td>0.0</td>\n",
       "      <td>9.0</td>\n",
       "      <td>2.0</td>\n",
       "    </tr>\n",
       "    <tr>\n",
       "      <th>2</th>\n",
       "      <td>Fmcs_1.txt</td>\n",
       "      <td>1996-05-03</td>\n",
       "      <td>5.0</td>\n",
       "      <td>632.0</td>\n",
       "      <td>132.0</td>\n",
       "      <td>132.0</td>\n",
       "      <td>4.0</td>\n",
       "      <td>0.0</td>\n",
       "      <td>4.0</td>\n",
       "      <td>17.0</td>\n",
       "      <td>...</td>\n",
       "      <td>0.0</td>\n",
       "      <td>0.0</td>\n",
       "      <td>0.0</td>\n",
       "      <td>1.0</td>\n",
       "      <td>0.0</td>\n",
       "      <td>0.0</td>\n",
       "      <td>0.0</td>\n",
       "      <td>0.0</td>\n",
       "      <td>6.0</td>\n",
       "      <td>1.0</td>\n",
       "    </tr>\n",
       "    <tr>\n",
       "      <th>3</th>\n",
       "      <td>Fmcs_1.txt</td>\n",
       "      <td>1996-05-03</td>\n",
       "      <td>177.0</td>\n",
       "      <td>779.0</td>\n",
       "      <td>133.0</td>\n",
       "      <td>133.0</td>\n",
       "      <td>2.0</td>\n",
       "      <td>0.0</td>\n",
       "      <td>5.0</td>\n",
       "      <td>16.0</td>\n",
       "      <td>...</td>\n",
       "      <td>0.0</td>\n",
       "      <td>0.0</td>\n",
       "      <td>0.0</td>\n",
       "      <td>1.0</td>\n",
       "      <td>0.0</td>\n",
       "      <td>0.0</td>\n",
       "      <td>0.0</td>\n",
       "      <td>0.0</td>\n",
       "      <td>6.0</td>\n",
       "      <td>1.0</td>\n",
       "    </tr>\n",
       "    <tr>\n",
       "      <th>4</th>\n",
       "      <td>Fmcs_1.txt</td>\n",
       "      <td>1996-05-03</td>\n",
       "      <td>411.0</td>\n",
       "      <td>1192.0</td>\n",
       "      <td>134.0</td>\n",
       "      <td>134.0</td>\n",
       "      <td>2.0</td>\n",
       "      <td>0.0</td>\n",
       "      <td>6.0</td>\n",
       "      <td>16.0</td>\n",
       "      <td>...</td>\n",
       "      <td>0.0</td>\n",
       "      <td>0.0</td>\n",
       "      <td>0.0</td>\n",
       "      <td>1.0</td>\n",
       "      <td>0.0</td>\n",
       "      <td>0.0</td>\n",
       "      <td>0.0</td>\n",
       "      <td>0.0</td>\n",
       "      <td>6.0</td>\n",
       "      <td>1.0</td>\n",
       "    </tr>\n",
       "  </tbody>\n",
       "</table>\n",
       "<p>5 rows × 39 columns</p>\n",
       "</div>"
      ],
      "text/plain": [
       "       FileName       Date      b       e    LBE     LB   AC   FM   UC  ASTV  \\\n",
       "0           NaN        NaT    NaN     NaN    NaN    NaN  NaN  NaN  NaN   NaN   \n",
       "1  Variab10.txt 1996-12-01  240.0   357.0  120.0  120.0  0.0  0.0  0.0  73.0   \n",
       "2    Fmcs_1.txt 1996-05-03    5.0   632.0  132.0  132.0  4.0  0.0  4.0  17.0   \n",
       "3    Fmcs_1.txt 1996-05-03  177.0   779.0  133.0  133.0  2.0  0.0  5.0  16.0   \n",
       "4    Fmcs_1.txt 1996-05-03  411.0  1192.0  134.0  134.0  2.0  0.0  6.0  16.0   \n",
       "\n",
       "  ...     C    D    E   AD   DE   LD   FS  SUSP  CLASS  NSP  \n",
       "0 ...   NaN  NaN  NaN  NaN  NaN  NaN  NaN   NaN    NaN  NaN  \n",
       "1 ...   0.0  0.0  0.0  0.0  0.0  0.0  1.0   0.0    9.0  2.0  \n",
       "2 ...   0.0  0.0  0.0  1.0  0.0  0.0  0.0   0.0    6.0  1.0  \n",
       "3 ...   0.0  0.0  0.0  1.0  0.0  0.0  0.0   0.0    6.0  1.0  \n",
       "4 ...   0.0  0.0  0.0  1.0  0.0  0.0  0.0   0.0    6.0  1.0  \n",
       "\n",
       "[5 rows x 39 columns]"
      ]
     },
     "execution_count": 82,
     "metadata": {},
     "output_type": "execute_result"
    }
   ],
   "source": [
    "data = pd.read_excel('CTG.xls', 'Raw Data')\n",
    "data.head()\n",
    "\n",
    "description = pd.read_excel('CTG.xls', 'Description', skiprows=5)\n",
    "description.columns\n",
    "\n",
    "description.head()\n",
    "columnNames = description\n",
    "columnNames = description[['Unnamed: 2', 'Unnamed: 3']]\n",
    "columnNames = columnNames[:39]\n",
    "columnNames = columnNames.T\n",
    "columnNames # Obtained a columName df\n",
    "data.head()\n",
    "data = data.drop('SegFile', 1) # Removed the column that wasn't common\n",
    "data.head()"
   ]
  },
  {
   "cell_type": "markdown",
   "metadata": {},
   "source": [
    "### Extracting column names from the data dictionary for easy reference of what the column indicates"
   ]
  },
  {
   "cell_type": "code",
   "execution_count": 83,
   "metadata": {
    "collapsed": false
   },
   "outputs": [
    {
     "data": {
      "text/html": [
       "<div>\n",
       "<style>\n",
       "    .dataframe thead tr:only-child th {\n",
       "        text-align: right;\n",
       "    }\n",
       "\n",
       "    .dataframe thead th {\n",
       "        text-align: left;\n",
       "    }\n",
       "\n",
       "    .dataframe tbody tr th {\n",
       "        vertical-align: top;\n",
       "    }\n",
       "</style>\n",
       "<table border=\"1\" class=\"dataframe\">\n",
       "  <thead>\n",
       "    <tr style=\"text-align: right;\">\n",
       "      <th></th>\n",
       "      <th>of CTG examination</th>\n",
       "      <th>of the examination</th>\n",
       "      <th>start instant</th>\n",
       "      <th>end instant</th>\n",
       "      <th>baseline value (medical expert)</th>\n",
       "      <th>baseline value (SisPorto)</th>\n",
       "      <th>accelerations (SisPorto)</th>\n",
       "      <th>foetal movement (SisPorto)</th>\n",
       "      <th>uterine contractions (SisPorto)</th>\n",
       "      <th>percentage of time with abnormal short term variability  (SisPorto)</th>\n",
       "      <th>...</th>\n",
       "      <th>calm vigilance</th>\n",
       "      <th>active vigilance</th>\n",
       "      <th>shift pattern (A or Susp with shifts)</th>\n",
       "      <th>accelerative/decelerative pattern (stress situation)</th>\n",
       "      <th>decelerative pattern (vagal stimulation)</th>\n",
       "      <th>largely decelerative pattern</th>\n",
       "      <th>flat-sinusoidal pattern (pathological state)</th>\n",
       "      <th>suspect pattern</th>\n",
       "      <th>Class code (1 to 10) for classes A to SUSP</th>\n",
       "      <th>Normal=1; Suspect=2; Pathologic=3</th>\n",
       "    </tr>\n",
       "  </thead>\n",
       "  <tbody>\n",
       "    <tr>\n",
       "      <th>0</th>\n",
       "      <td>NaN</td>\n",
       "      <td>NaT</td>\n",
       "      <td>NaN</td>\n",
       "      <td>NaN</td>\n",
       "      <td>NaN</td>\n",
       "      <td>NaN</td>\n",
       "      <td>NaN</td>\n",
       "      <td>NaN</td>\n",
       "      <td>NaN</td>\n",
       "      <td>NaN</td>\n",
       "      <td>...</td>\n",
       "      <td>NaN</td>\n",
       "      <td>NaN</td>\n",
       "      <td>NaN</td>\n",
       "      <td>NaN</td>\n",
       "      <td>NaN</td>\n",
       "      <td>NaN</td>\n",
       "      <td>NaN</td>\n",
       "      <td>NaN</td>\n",
       "      <td>NaN</td>\n",
       "      <td>NaN</td>\n",
       "    </tr>\n",
       "    <tr>\n",
       "      <th>1</th>\n",
       "      <td>Variab10.txt</td>\n",
       "      <td>1996-12-01</td>\n",
       "      <td>240.0</td>\n",
       "      <td>357.0</td>\n",
       "      <td>120.0</td>\n",
       "      <td>120.0</td>\n",
       "      <td>0.0</td>\n",
       "      <td>0.0</td>\n",
       "      <td>0.0</td>\n",
       "      <td>73.0</td>\n",
       "      <td>...</td>\n",
       "      <td>0.0</td>\n",
       "      <td>0.0</td>\n",
       "      <td>0.0</td>\n",
       "      <td>0.0</td>\n",
       "      <td>0.0</td>\n",
       "      <td>0.0</td>\n",
       "      <td>1.0</td>\n",
       "      <td>0.0</td>\n",
       "      <td>9.0</td>\n",
       "      <td>2.0</td>\n",
       "    </tr>\n",
       "    <tr>\n",
       "      <th>2</th>\n",
       "      <td>Fmcs_1.txt</td>\n",
       "      <td>1996-05-03</td>\n",
       "      <td>5.0</td>\n",
       "      <td>632.0</td>\n",
       "      <td>132.0</td>\n",
       "      <td>132.0</td>\n",
       "      <td>4.0</td>\n",
       "      <td>0.0</td>\n",
       "      <td>4.0</td>\n",
       "      <td>17.0</td>\n",
       "      <td>...</td>\n",
       "      <td>0.0</td>\n",
       "      <td>0.0</td>\n",
       "      <td>0.0</td>\n",
       "      <td>1.0</td>\n",
       "      <td>0.0</td>\n",
       "      <td>0.0</td>\n",
       "      <td>0.0</td>\n",
       "      <td>0.0</td>\n",
       "      <td>6.0</td>\n",
       "      <td>1.0</td>\n",
       "    </tr>\n",
       "    <tr>\n",
       "      <th>3</th>\n",
       "      <td>Fmcs_1.txt</td>\n",
       "      <td>1996-05-03</td>\n",
       "      <td>177.0</td>\n",
       "      <td>779.0</td>\n",
       "      <td>133.0</td>\n",
       "      <td>133.0</td>\n",
       "      <td>2.0</td>\n",
       "      <td>0.0</td>\n",
       "      <td>5.0</td>\n",
       "      <td>16.0</td>\n",
       "      <td>...</td>\n",
       "      <td>0.0</td>\n",
       "      <td>0.0</td>\n",
       "      <td>0.0</td>\n",
       "      <td>1.0</td>\n",
       "      <td>0.0</td>\n",
       "      <td>0.0</td>\n",
       "      <td>0.0</td>\n",
       "      <td>0.0</td>\n",
       "      <td>6.0</td>\n",
       "      <td>1.0</td>\n",
       "    </tr>\n",
       "    <tr>\n",
       "      <th>4</th>\n",
       "      <td>Fmcs_1.txt</td>\n",
       "      <td>1996-05-03</td>\n",
       "      <td>411.0</td>\n",
       "      <td>1192.0</td>\n",
       "      <td>134.0</td>\n",
       "      <td>134.0</td>\n",
       "      <td>2.0</td>\n",
       "      <td>0.0</td>\n",
       "      <td>6.0</td>\n",
       "      <td>16.0</td>\n",
       "      <td>...</td>\n",
       "      <td>0.0</td>\n",
       "      <td>0.0</td>\n",
       "      <td>0.0</td>\n",
       "      <td>1.0</td>\n",
       "      <td>0.0</td>\n",
       "      <td>0.0</td>\n",
       "      <td>0.0</td>\n",
       "      <td>0.0</td>\n",
       "      <td>6.0</td>\n",
       "      <td>1.0</td>\n",
       "    </tr>\n",
       "  </tbody>\n",
       "</table>\n",
       "<p>5 rows × 39 columns</p>\n",
       "</div>"
      ],
      "text/plain": [
       "  of CTG examination of the examination  start instant  end instant  \\\n",
       "0                NaN                NaT            NaN          NaN   \n",
       "1       Variab10.txt         1996-12-01          240.0        357.0   \n",
       "2         Fmcs_1.txt         1996-05-03            5.0        632.0   \n",
       "3         Fmcs_1.txt         1996-05-03          177.0        779.0   \n",
       "4         Fmcs_1.txt         1996-05-03          411.0       1192.0   \n",
       "\n",
       "   baseline value (medical expert)  baseline value (SisPorto)  \\\n",
       "0                              NaN                        NaN   \n",
       "1                            120.0                      120.0   \n",
       "2                            132.0                      132.0   \n",
       "3                            133.0                      133.0   \n",
       "4                            134.0                      134.0   \n",
       "\n",
       "   accelerations (SisPorto)  foetal movement (SisPorto)  \\\n",
       "0                       NaN                         NaN   \n",
       "1                       0.0                         0.0   \n",
       "2                       4.0                         0.0   \n",
       "3                       2.0                         0.0   \n",
       "4                       2.0                         0.0   \n",
       "\n",
       "   uterine contractions (SisPorto)  \\\n",
       "0                              NaN   \n",
       "1                              0.0   \n",
       "2                              4.0   \n",
       "3                              5.0   \n",
       "4                              6.0   \n",
       "\n",
       "   percentage of time with abnormal short term variability  (SisPorto)  \\\n",
       "0                                                NaN                     \n",
       "1                                               73.0                     \n",
       "2                                               17.0                     \n",
       "3                                               16.0                     \n",
       "4                                               16.0                     \n",
       "\n",
       "                 ...                  calm vigilance  active vigilance  \\\n",
       "0                ...                             NaN               NaN   \n",
       "1                ...                             0.0               0.0   \n",
       "2                ...                             0.0               0.0   \n",
       "3                ...                             0.0               0.0   \n",
       "4                ...                             0.0               0.0   \n",
       "\n",
       "   shift pattern (A or Susp with shifts)  \\\n",
       "0                                    NaN   \n",
       "1                                    0.0   \n",
       "2                                    0.0   \n",
       "3                                    0.0   \n",
       "4                                    0.0   \n",
       "\n",
       "   accelerative/decelerative pattern (stress situation)  \\\n",
       "0                                                NaN      \n",
       "1                                                0.0      \n",
       "2                                                1.0      \n",
       "3                                                1.0      \n",
       "4                                                1.0      \n",
       "\n",
       "   decelerative pattern (vagal stimulation)  largely decelerative pattern  \\\n",
       "0                                       NaN                           NaN   \n",
       "1                                       0.0                           0.0   \n",
       "2                                       0.0                           0.0   \n",
       "3                                       0.0                           0.0   \n",
       "4                                       0.0                           0.0   \n",
       "\n",
       "   flat-sinusoidal pattern (pathological state)  suspect pattern  \\\n",
       "0                                           NaN              NaN   \n",
       "1                                           1.0              0.0   \n",
       "2                                           0.0              0.0   \n",
       "3                                           0.0              0.0   \n",
       "4                                           0.0              0.0   \n",
       "\n",
       "   Class code (1 to 10) for classes A to SUSP  \\\n",
       "0                                         NaN   \n",
       "1                                         9.0   \n",
       "2                                         6.0   \n",
       "3                                         6.0   \n",
       "4                                         6.0   \n",
       "\n",
       "   Normal=1; Suspect=2; Pathologic=3  \n",
       "0                                NaN  \n",
       "1                                2.0  \n",
       "2                                1.0  \n",
       "3                                1.0  \n",
       "4                                1.0  \n",
       "\n",
       "[5 rows x 39 columns]"
      ]
     },
     "execution_count": 83,
     "metadata": {},
     "output_type": "execute_result"
    }
   ],
   "source": [
    "columnList = columnNames[1:].values.tolist() # converting from dataframe to list for renaming puposes\n",
    "len(columnList[0]) # selecting the first element of the list that contains the column names\n",
    "\n",
    "data.columns = data.columns[:0].tolist() + columnList[0] # replacing the columnNames from original dataframe with new names\n",
    "data.head()\n",
    "\n",
    "    "
   ]
  },
  {
   "cell_type": "markdown",
   "metadata": {},
   "source": [
    "### Dropping null values if exists"
   ]
  },
  {
   "cell_type": "code",
   "execution_count": 84,
   "metadata": {
    "collapsed": false
   },
   "outputs": [
    {
     "data": {
      "text/plain": [
       "Index(['of CTG examination', 'of the examination', 'start instant',\n",
       "       'end instant', 'baseline value (medical expert)',\n",
       "       'baseline value (SisPorto)', 'accelerations (SisPorto)',\n",
       "       'foetal movement (SisPorto)', 'uterine contractions (SisPorto)',\n",
       "       'percentage of time with abnormal short term variability  (SisPorto)',\n",
       "       'mean value of short term variability  (SisPorto)',\n",
       "       'percentage of time with abnormal long term variability  (SisPorto)',\n",
       "       'mean value of long term variability  (SisPorto)',\n",
       "       'light decelerations', 'severe decelerations',\n",
       "       'prolongued decelerations', 'repetitive decelerations',\n",
       "       'histogram width', 'low freq. of the histogram',\n",
       "       'high freq. of the histogram', 'number of histogram peaks',\n",
       "       'number of histogram zeros', 'histogram mode', 'histogram mean',\n",
       "       'histogram median', 'histogram variance',\n",
       "       'histogram tendency: -1=left assymetric; 0=symmetric; 1=right assymetric',\n",
       "       'calm sleep', 'REM sleep', 'calm vigilance', 'active vigilance',\n",
       "       'shift pattern (A or Susp with shifts)',\n",
       "       'accelerative/decelerative pattern (stress situation)',\n",
       "       'decelerative pattern (vagal stimulation)',\n",
       "       'largely decelerative pattern',\n",
       "       'flat-sinusoidal pattern (pathological state)', 'suspect pattern',\n",
       "       'Class code (1 to 10) for classes A to SUSP',\n",
       "       'Normal=1; Suspect=2; Pathologic=3'],\n",
       "      dtype='object')"
      ]
     },
     "execution_count": 84,
     "metadata": {},
     "output_type": "execute_result"
    }
   ],
   "source": [
    "data.dropna(inplace=True)\n",
    "data.columns"
   ]
  },
  {
   "cell_type": "markdown",
   "metadata": {},
   "source": [
    "### The dataset consists of 10-class and a 3 class classification results\n",
    "1. I created 3 subsets for finding correlations with the results\n",
    "    subset1 consists of all the readings of the cardiotocograpth and the 3-class classification column\n",
    "    \n",
    "2. subset 2 consists of all the readings of the cardiotocograph and the 10-class classification distinct columns\n",
    "\n",
    "3. subset3 is similar to subset 2"
   ]
  },
  {
   "cell_type": "code",
   "execution_count": 85,
   "metadata": {
    "collapsed": true
   },
   "outputs": [],
   "source": [
    "subset1 = data[['baseline value (medical expert)',\n",
    "       'baseline value (SisPorto)', 'accelerations (SisPorto)',\n",
    "       'foetal movement (SisPorto)', 'uterine contractions (SisPorto)',\n",
    "       'percentage of time with abnormal short term variability  (SisPorto)',\n",
    "       'mean value of short term variability  (SisPorto)',\n",
    "       'percentage of time with abnormal long term variability  (SisPorto)',\n",
    "       'mean value of long term variability  (SisPorto)',\n",
    "       'light decelerations', 'severe decelerations',\n",
    "       'prolongued decelerations', 'repetitive decelerations','Normal=1; Suspect=2; Pathologic=3']]\n",
    "\n",
    "subset2 = data[['baseline value (medical expert)',\n",
    "       'baseline value (SisPorto)', 'accelerations (SisPorto)',\n",
    "       'foetal movement (SisPorto)', 'uterine contractions (SisPorto)',\n",
    "       'percentage of time with abnormal short term variability  (SisPorto)',\n",
    "       'mean value of short term variability  (SisPorto)',\n",
    "       'percentage of time with abnormal long term variability  (SisPorto)',\n",
    "       'mean value of long term variability  (SisPorto)',\n",
    "       'light decelerations', 'severe decelerations',\n",
    "       'prolongued decelerations', 'repetitive decelerations','calm sleep', 'REM sleep', 'calm vigilance', 'active vigilance',\n",
    "       'shift pattern (A or Susp with shifts)',\n",
    "       'accelerative/decelerative pattern (stress situation)',\n",
    "       'decelerative pattern (vagal stimulation)',\n",
    "       'largely decelerative pattern',\n",
    "       'flat-sinusoidal pattern (pathological state)', 'suspect pattern',\n",
    "       'Class code (1 to 10) for classes A to SUSP']]\n",
    "\n",
    "subset3 = data[['baseline value (medical expert)',\n",
    "       'baseline value (SisPorto)', 'accelerations (SisPorto)',\n",
    "       'foetal movement (SisPorto)', 'uterine contractions (SisPorto)',\n",
    "       'percentage of time with abnormal short term variability  (SisPorto)',\n",
    "       'mean value of short term variability  (SisPorto)',\n",
    "       'percentage of time with abnormal long term variability  (SisPorto)',\n",
    "       'mean value of long term variability  (SisPorto)',\n",
    "       'light decelerations', 'severe decelerations',\n",
    "       'prolongued decelerations', 'repetitive decelerations','Class code (1 to 10) for classes A to SUSP']]"
   ]
  },
  {
   "cell_type": "markdown",
   "metadata": {},
   "source": [
    "### Plotting correlations for the 3 subsets"
   ]
  },
  {
   "cell_type": "code",
   "execution_count": 86,
   "metadata": {
    "collapsed": false
   },
   "outputs": [
    {
     "data": {
      "image/png": "[encoded data removed]",
      "text/plain": [
       "<matplotlib.figure.Figure at 0x2b54b74f908>"
      ]
     },
     "metadata": {},
     "output_type": "display_data"
    }
   ],
   "source": [
    "subser1corr = subset1.corr()                        \n",
    "sns.heatmap(subser1corr)\n",
    "sns.plt.show()"
   ]
  },
  {
   "cell_type": "markdown",
   "metadata": {},
   "source": [
    "### Checking the relationship between the 10-class and the 3 class classifications"
   ]
  },
  {
   "cell_type": "code",
   "execution_count": 87,
   "metadata": {
    "collapsed": false
   },
   "outputs": [
    {
     "data": {
      "image/png": "[encoded data removed]",
      "text/plain": [
       "<matplotlib.figure.Figure at 0x2b54b7fb550>"
      ]
     },
     "metadata": {},
     "output_type": "display_data"
    }
   ],
   "source": [
    "my_xticks = np.array([1,2,3,4,5,6,7,8,9,10])\n",
    "my_yticks = np.array([1,2,3])\n",
    "sns.plt.scatter(data['Class code (1 to 10) for classes A to SUSP'], data['Normal=1; Suspect=2; Pathologic=3'])\n",
    "sns.plt.xlabel('Classification 1-10')\n",
    "sns.plt.ylabel('Classification N/S/P')\n",
    "sns.plt.show()"
   ]
  },
  {
   "cell_type": "markdown",
   "metadata": {},
   "source": [
    "### Taking the strongly correlated fields from subset 1"
   ]
  },
  {
   "cell_type": "code",
   "execution_count": 88,
   "metadata": {
    "collapsed": false
   },
   "outputs": [
    {
     "data": {
      "text/plain": [
       "array([[0],\n",
       "       [1],\n",
       "       [1],\n",
       "       ..., \n",
       "       [0],\n",
       "       [0],\n",
       "       [1]], dtype=int64)"
      ]
     },
     "execution_count": 88,
     "metadata": {},
     "output_type": "execute_result"
    }
   ],
   "source": [
    "X = data.drop(['Normal=1; Suspect=2; Pathologic=3','of the examination','of CTG examination'],1)\n",
    "y = pd.factorize(data['Normal=1; Suspect=2; Pathologic=3'].values)[0].reshape(-1, 1)\n",
    "y"
   ]
  },
  {
   "cell_type": "markdown",
   "metadata": {
    "collapsed": true
   },
   "source": [
    "# Spliting Data\n",
    "We want to make sure all the data is properly distriputed and is not Over Fitting. Hence we do various splits"
   ]
  },
  {
   "cell_type": "code",
   "execution_count": 89,
   "metadata": {
    "collapsed": true
   },
   "outputs": [],
   "source": [
    "def train_test_validate_split(X_data=X, y_data=y, test_size=0.3, rand_state=21, valid_set=True):\n",
    "    \"\"\"\n",
    "    Description: Usually you split using 70% Train, 20% Test, and 10% Valid to check if you are overfitting.\n",
    "    Method: This allows for adjusting different Testing size and Random states to mess with.\n",
    "            You may also choose if you want to include a validation set.\n",
    "    \n",
    "    \"\"\"\n",
    "\n",
    "    from sklearn.cross_validation import train_test_split\n",
    "    \n",
    "    if valid_set is True:\n",
    "        X_train, X_test, y_train, y_test = train_test_split(X_data, y_data, test_size=0.3, random_state=21)\n",
    "        X_test, X_val, y_test, y_val = train_test_split(X_test, y_test, test_size=0.33, random_state=21)\n",
    "        \n",
    "        return X_train, X_test, X_val, y_train, y_test, y_val\n",
    "    else:\n",
    "        X_train, X_test, y_train, y_test = train_test_split(X_data, y_data, test_size=0.33, random_state=21)\n",
    "        return X_train, X_test, y_train, y_test"
   ]
  },
  {
   "cell_type": "code",
   "execution_count": 90,
   "metadata": {
    "collapsed": true
   },
   "outputs": [],
   "source": [
    "# You can call the model spliting here or in the model\n",
    "X_test, X_val, y_test, y_val = train_test_validate_split(X, y, test_size=0.33, rand_state=42, valid_set=False)\n",
    "# With Validation\n",
    "X_train, X_test, X_val, y_train, y_test, y_val = train_test_validate_split(X, y, test_size=0.33, rand_state=42, valid_set=True)"
   ]
  },
  {
   "cell_type": "markdown",
   "metadata": {
    "collapsed": true
   },
   "source": [
    "# Model 1: PCA with KNN"
   ]
  },
  {
   "cell_type": "code",
   "execution_count": 91,
   "metadata": {
    "collapsed": true
   },
   "outputs": [],
   "source": [
    "def model_PCA_with_KNN(X, y, n_components, size_to_test=0.25, rand_state=42, valid_set=False, returnScore = False):\n",
    "    if valid_set is False:\n",
    "        pca = PCA(n_components=n_components, whiten='True')\n",
    "        X_transform = pca.fit(X).transform(X)\n",
    "        X_train, X_test, y_train, y_test = train_test_validate_split(X_transform, y, test_size=size_to_test, rand_state=42, valid_set=False)\n",
    "        knn = KNeighborsClassifier()\n",
    "\n",
    "        # From a software perstective you want to just return the model\n",
    "        if returnScore:\n",
    "            knn.fit(X_train,y_train), X_train, X_test, y_train, y_test\n",
    "            return knn.score(X_test, y_test, sample_weight=None)\n",
    "        else:\n",
    "            return knn.fit(X_train,y_train), X_train, X_test, y_train, y_test\n",
    "    else:\n",
    "        \n",
    "        pca = PCA(n_components=n_components, whiten='True')\n",
    "        X_transform = pca.fit(X).transform(X)\n",
    "        X_train, X_test, X_val, y_train, y_test, y_val = train_test_validate_split(X_transform, y, test_size=size_to_set, rand_state=42, valid_set=True)\n",
    "\n",
    "        knn = KNeighborsClassifier()\n",
    "\n",
    "        # From a software perstective you want to just return the model\n",
    "        if returnScore:\n",
    "            knn.fit(X_train,y_train), X_train, X_test, y_train, y_test\n",
    "            return knn.score(X_test, y_test, sample_weight=None)\n",
    "        else:\n",
    "            return knn.fit(X_train,y_train), X_train, X_test, y_train, y_test"
   ]
  },
  {
   "cell_type": "markdown",
   "metadata": {
    "collapsed": true
   },
   "source": [
    "# Model 2: PCA with Random Forest"
   ]
  },
  {
   "cell_type": "code",
   "execution_count": 92,
   "metadata": {
    "collapsed": true
   },
   "outputs": [],
   "source": [
    "def model_PCA_with_RandomForest(X, y, n_components, size_to_set=0.25, rand_state=42, valid_set=False, returnScore = False):\n",
    "    pca = PCA(n_components=n_components,whiten='True')\n",
    "    #print(\"Number of Componnents = \" + str(n_components))\n",
    "    X_transformed = pca.fit(X).transform(X)\n",
    "    #print(X_transformed)\n",
    "    \n",
    "    if valid_set is False:\n",
    "        X_train, X_test, y_train, y_test = train_test_validate_split(X_transformed, y, test_size=size_to_set, rand_state=42, valid_set=False)\n",
    "        #print(X_train)\n",
    "        rfr = RandomForestClassifier(n_estimators = 100, n_jobs = 1, \n",
    "                                     random_state = 2016, verbose = 1,\n",
    "                                     class_weight='balanced', oob_score=True)\n",
    "        if returnScore:\n",
    "            rfr.fit(X_train,y_train.ravel()), X_train, X_test, y_train, y_test\n",
    "#             print(X_train.columns)\n",
    "            return rfr.score(X_test, y_test, sample_weight=None)\n",
    "        else:\n",
    "            return rfr.fit(X_train,y_train.ravel()), X_train, X_test, y_train, y_test\n",
    "    \n",
    "    else:\n",
    "        \n",
    "        X_train, X_test, X_val, y_train, y_test, y_val = train_test_validate_split(X_transformed, y, test_size=size_to_set, rand_state=42, valid_set=True)\n",
    "        \n",
    "        rfr = RandomForestClassifier(n_estimators = 100, n_jobs = 1, \n",
    "                                     random_state = 2016, verbose = 1,\n",
    "                                     class_weight='balanced', oob_score=True)\n",
    "        if returnScore:\n",
    "            rfr.fit(X_train,y_train.ravel()), X_train, X_test, y_train, y_test\n",
    "            return rfr.score(X_test, y_test, sample_weight=None)\n",
    "        else:\n",
    "            return rfr.fit(X_train,y_train.ravel()), X_train, X_test, X_val, y_train, y_test, y_val"
   ]
  },
  {
   "cell_type": "markdown",
   "metadata": {
    "collapsed": true
   },
   "source": [
    "##Using the lambda function in python to figure out a way to select various number of componments to make predictions of the dataset."
   ]
  },
  {
   "cell_type": "code",
   "execution_count": 93,
   "metadata": {
    "collapsed": true
   },
   "outputs": [],
   "source": [
    "knn_iterate_over_columns = lambda n_components:model_PCA_with_KNN(X, y, n_components+1, size_to_test=0.25, rand_state=42, valid_set=False,returnScore = True)\n",
    "rf_iterate_over_columns = lambda n_components:model_PCA_with_RandomForest(X, y, n_components+1, size_to_set=0.25, rand_state=42, valid_set=False,returnScore = True)"
   ]
  },
  {
   "cell_type": "code",
   "execution_count": 94,
   "metadata": {
    "collapsed": false
   },
   "outputs": [
    {
     "name": "stderr",
     "output_type": "stream",
     "text": [
      "[Parallel(n_jobs=1)]: Done 100 out of 100 | elapsed:    0.1s finished\n",
      "[Parallel(n_jobs=1)]: Done 100 out of 100 | elapsed:    0.0s finished\n",
      "[Parallel(n_jobs=1)]: Done 100 out of 100 | elapsed:    0.1s finished\n",
      "[Parallel(n_jobs=1)]: Done 100 out of 100 | elapsed:    0.0s finished\n",
      "[Parallel(n_jobs=1)]: Done 100 out of 100 | elapsed:    0.0s finished\n",
      "[Parallel(n_jobs=1)]: Done 100 out of 100 | elapsed:    0.0s finished\n",
      "[Parallel(n_jobs=1)]: Done 100 out of 100 | elapsed:    0.1s finished\n",
      "[Parallel(n_jobs=1)]: Done 100 out of 100 | elapsed:    0.0s finished\n",
      "[Parallel(n_jobs=1)]: Done 100 out of 100 | elapsed:    0.1s finished\n",
      "[Parallel(n_jobs=1)]: Done 100 out of 100 | elapsed:    0.0s finished\n",
      "[Parallel(n_jobs=1)]: Done 100 out of 100 | elapsed:    0.2s finished\n",
      "[Parallel(n_jobs=1)]: Done 100 out of 100 | elapsed:    0.0s finished\n",
      "[Parallel(n_jobs=1)]: Done 100 out of 100 | elapsed:    0.2s finished\n",
      "[Parallel(n_jobs=1)]: Done 100 out of 100 | elapsed:    0.0s finished\n",
      "[Parallel(n_jobs=1)]: Done 100 out of 100 | elapsed:    0.1s finished\n",
      "[Parallel(n_jobs=1)]: Done 100 out of 100 | elapsed:    0.0s finished\n",
      "[Parallel(n_jobs=1)]: Done 100 out of 100 | elapsed:    0.2s finished\n",
      "[Parallel(n_jobs=1)]: Done 100 out of 100 | elapsed:    0.0s finished\n",
      "[Parallel(n_jobs=1)]: Done 100 out of 100 | elapsed:    0.1s finished\n",
      "[Parallel(n_jobs=1)]: Done 100 out of 100 | elapsed:    0.0s finished\n",
      "[Parallel(n_jobs=1)]: Done 100 out of 100 | elapsed:    0.2s finished\n",
      "[Parallel(n_jobs=1)]: Done 100 out of 100 | elapsed:    0.0s finished\n",
      "[Parallel(n_jobs=1)]: Done 100 out of 100 | elapsed:    0.3s finished\n",
      "[Parallel(n_jobs=1)]: Done 100 out of 100 | elapsed:    0.0s finished\n",
      "[Parallel(n_jobs=1)]: Done 100 out of 100 | elapsed:    0.2s finished\n",
      "[Parallel(n_jobs=1)]: Done 100 out of 100 | elapsed:    0.0s finished\n",
      "[Parallel(n_jobs=1)]: Done 100 out of 100 | elapsed:    0.2s finished\n",
      "[Parallel(n_jobs=1)]: Done 100 out of 100 | elapsed:    0.0s finished\n",
      "[Parallel(n_jobs=1)]: Done 100 out of 100 | elapsed:    0.3s finished\n",
      "[Parallel(n_jobs=1)]: Done 100 out of 100 | elapsed:    0.0s finished\n",
      "[Parallel(n_jobs=1)]: Done 100 out of 100 | elapsed:    0.2s finished\n",
      "[Parallel(n_jobs=1)]: Done 100 out of 100 | elapsed:    0.0s finished\n",
      "[Parallel(n_jobs=1)]: Done 100 out of 100 | elapsed:    0.4s finished\n",
      "[Parallel(n_jobs=1)]: Done 100 out of 100 | elapsed:    0.0s finished\n",
      "[Parallel(n_jobs=1)]: Done 100 out of 100 | elapsed:    0.3s finished\n",
      "[Parallel(n_jobs=1)]: Done 100 out of 100 | elapsed:    0.0s finished\n",
      "[Parallel(n_jobs=1)]: Done 100 out of 100 | elapsed:    0.2s finished\n",
      "[Parallel(n_jobs=1)]: Done 100 out of 100 | elapsed:    0.0s finished\n",
      "[Parallel(n_jobs=1)]: Done 100 out of 100 | elapsed:    0.2s finished\n",
      "[Parallel(n_jobs=1)]: Done 100 out of 100 | elapsed:    0.0s finished\n",
      "[Parallel(n_jobs=1)]: Done 100 out of 100 | elapsed:    0.2s finished\n",
      "[Parallel(n_jobs=1)]: Done 100 out of 100 | elapsed:    0.0s finished\n",
      "[Parallel(n_jobs=1)]: Done 100 out of 100 | elapsed:    0.2s finished\n",
      "[Parallel(n_jobs=1)]: Done 100 out of 100 | elapsed:    0.0s finished\n",
      "[Parallel(n_jobs=1)]: Done 100 out of 100 | elapsed:    0.3s finished\n",
      "[Parallel(n_jobs=1)]: Done 100 out of 100 | elapsed:    0.0s finished\n",
      "[Parallel(n_jobs=1)]: Done 100 out of 100 | elapsed:    0.2s finished\n",
      "[Parallel(n_jobs=1)]: Done 100 out of 100 | elapsed:    0.0s finished\n",
      "[Parallel(n_jobs=1)]: Done 100 out of 100 | elapsed:    0.5s finished\n",
      "[Parallel(n_jobs=1)]: Done 100 out of 100 | elapsed:    0.0s finished\n",
      "[Parallel(n_jobs=1)]: Done 100 out of 100 | elapsed:    0.3s finished\n",
      "[Parallel(n_jobs=1)]: Done 100 out of 100 | elapsed:    0.0s finished\n",
      "[Parallel(n_jobs=1)]: Done 100 out of 100 | elapsed:    0.3s finished\n",
      "[Parallel(n_jobs=1)]: Done 100 out of 100 | elapsed:    0.0s finished\n",
      "[Parallel(n_jobs=1)]: Done 100 out of 100 | elapsed:    0.4s finished\n",
      "[Parallel(n_jobs=1)]: Done 100 out of 100 | elapsed:    0.0s finished\n",
      "[Parallel(n_jobs=1)]: Done 100 out of 100 | elapsed:    0.3s finished\n",
      "[Parallel(n_jobs=1)]: Done 100 out of 100 | elapsed:    0.0s finished\n",
      "[Parallel(n_jobs=1)]: Done 100 out of 100 | elapsed:    0.3s finished\n",
      "[Parallel(n_jobs=1)]: Done 100 out of 100 | elapsed:    0.0s finished\n",
      "[Parallel(n_jobs=1)]: Done 100 out of 100 | elapsed:    0.6s finished\n",
      "[Parallel(n_jobs=1)]: Done 100 out of 100 | elapsed:    0.0s finished\n",
      "[Parallel(n_jobs=1)]: Done 100 out of 100 | elapsed:    0.5s finished\n",
      "[Parallel(n_jobs=1)]: Done 100 out of 100 | elapsed:    0.0s finished\n",
      "[Parallel(n_jobs=1)]: Done 100 out of 100 | elapsed:    0.4s finished\n",
      "[Parallel(n_jobs=1)]: Done 100 out of 100 | elapsed:    0.0s finished\n",
      "[Parallel(n_jobs=1)]: Done 100 out of 100 | elapsed:    0.3s finished\n",
      "[Parallel(n_jobs=1)]: Done 100 out of 100 | elapsed:    0.0s finished\n",
      "[Parallel(n_jobs=1)]: Done 100 out of 100 | elapsed:    0.3s finished\n",
      "[Parallel(n_jobs=1)]: Done 100 out of 100 | elapsed:    0.0s finished\n",
      "[Parallel(n_jobs=1)]: Done 100 out of 100 | elapsed:    0.3s finished\n",
      "[Parallel(n_jobs=1)]: Done 100 out of 100 | elapsed:    0.0s finished\n"
     ]
    }
   ],
   "source": [
    "rf = list(map(rf_iterate_over_columns,range(len(X.columns))))\n",
    "knn = list(map(knn_iterate_over_columns,range(len(X.columns))))"
   ]
  },
  {
   "cell_type": "code",
   "execution_count": 95,
   "metadata": {
    "collapsed": false
   },
   "outputs": [
    {
     "data": {
      "image/png": "[encoded data removed]",
      "text/plain": [
       "<matplotlib.figure.Figure at 0x2b54d4ae2e8>"
      ]
     },
     "metadata": {},
     "output_type": "display_data"
    }
   ],
   "source": [
    "plt.plot(rf,marker='o', markersize=5,label='Random Forest')\n",
    "plt.plot(knn,'ro',markersize=5,label='KNN')\n",
    "\n",
    "plt.title(\"KNN vs Random Forest Prediction Scores\")\n",
    "plt.xlabel(\"Number of Features\")\n",
    "plt.ylabel(\"Score %\")\n",
    "plt.legend()\n",
    "plt.show()"
   ]
  },
  {
   "cell_type": "markdown",
   "metadata": {
    "collapsed": true
   },
   "source": [
    "### Parameter Tuning for RandomForest."
   ]
  },
  {
   "cell_type": "code",
   "execution_count": 96,
   "metadata": {
    "collapsed": true
   },
   "outputs": [],
   "source": [
    "clf = RandomForestClassifier(random_state = 84)\n",
    "\n",
    "def evaluate_param(parameter, num_range, index):\n",
    "    grid_search = GridSearchCV(clf, param_grid = {parameter: num_range})\n",
    "    grid_search.fit(X_test, y_test.flatten())\n",
    "    \n",
    "    df = {}\n",
    "    for i, score in enumerate(grid_search.grid_scores_):\n",
    "        df[score[0][parameter]] = score[1]\n",
    "       \n",
    "    \n",
    "    df = pd.DataFrame.from_dict(df, orient='index')\n",
    "    df.reset_index(level=0, inplace=True)\n",
    "    df = df.sort_values(by='index')\n",
    " \n",
    "    plt.subplot(3,2,index)\n",
    "    plot = plt.plot(df['index'], df[0])\n",
    "    plt.title(parameter)\n",
    "    return plot, df"
   ]
  },
  {
   "cell_type": "code",
   "execution_count": 97,
   "metadata": {
    "collapsed": true
   },
   "outputs": [],
   "source": [
    "# Tuning Parameter Grid\n",
    "\n",
    "# parameters and ranges to plot\n",
    "param_grid = {\"n_estimators\": np.arange(2, 300, 2),\n",
    "              \"max_depth\": np.arange(1, 28, 1),\n",
    "              \"min_samples_split\": np.arange(2,150,1),\n",
    "              \"min_samples_leaf\": np.arange(1,60,1),\n",
    "              \"max_leaf_nodes\": np.arange(2,60,1),\n",
    "              \"min_weight_fraction_leaf\": np.arange(0.1,0.4, 0.1)\n",
    "             }"
   ]
  },
  {
   "cell_type": "markdown",
   "metadata": {},
   "source": [
    "### Grid Search Scores with tuning parameters"
   ]
  },
  {
   "cell_type": "code",
   "execution_count": 98,
   "metadata": {
    "collapsed": false
   },
   "outputs": [],
   "source": [
    "index = 1\n",
    "plt.figure(figsize=(16,12))\n",
    "for parameter, param_range in dict.items(param_grid):\n",
    "    #print(parameter)\n",
    "    #print(param_range)\n",
    "    #print(\"Done\")\n",
    "    evaluate_param(parameter, param_range, index)\n",
    "    index += 1\n",
    "    "
   ]
  },
  {
   "cell_type": "code",
   "execution_count": 99,
   "metadata": {
    "collapsed": false
   },
   "outputs": [
    {
     "data": {
      "image/png": "[encoded data removed]",
      "text/plain": [
       "<matplotlib.figure.Figure at 0x2b54b718f28>"
      ]
     },
     "metadata": {},
     "output_type": "display_data"
    }
   ],
   "source": [
    "plt.show()"
   ]
  },
  {
   "cell_type": "code",
   "execution_count": null,
   "metadata": {
    "collapsed": false
   },
   "outputs": [],
   "source": []
  },
  {
   "cell_type": "code",
   "execution_count": 100,
   "metadata": {
    "collapsed": false
   },
   "outputs": [
    {
     "name": "stdout",
     "output_type": "stream",
     "text": [
      "Done\n"
     ]
    }
   ],
   "source": [
    "print(\"Done\")"
   ]
  },
  {
   "cell_type": "code",
   "execution_count": 103,
   "metadata": {
    "collapsed": false
   },
   "outputs": [
    {
     "name": "stdout",
     "output_type": "stream",
     "text": [
      "0.987179487179\n"
     ]
    },
    {
     "name": "stderr",
     "output_type": "stream",
     "text": [
      "[Parallel(n_jobs=1)]: Done 100 out of 100 | elapsed:    0.0s finished\n",
      "[Parallel(n_jobs=1)]: Done 100 out of 100 | elapsed:    0.0s finished\n"
     ]
    }
   ],
   "source": []
  },
  {
   "cell_type": "code",
   "execution_count": 108,
   "metadata": {
    "collapsed": false
   },
   "outputs": [
    {
     "name": "stdout",
     "output_type": "stream",
     "text": [
      "0.850427350427\n"
     ]
    },
    {
     "name": "stderr",
     "output_type": "stream",
     "text": [
      "[Parallel(n_jobs=1)]: Done  30 out of  30 | elapsed:    0.0s finished\n",
      "[Parallel(n_jobs=1)]: Done  30 out of  30 | elapsed:    0.0s finished\n"
     ]
    }
   ],
   "source": [
    "pca = PCA(n_components=13,whiten='True')\n",
    "    #print(\"Number of Componnents = \" + str(n_components))\n",
    "X_transformed = pca.fit(X).transform(X)\n",
    "X_train, X_test, y_train, y_test = train_test_validate_split(X_transformed, y, test_size=.25, rand_state=42, valid_set=False)\n",
    "        #print(X_train)\n",
    "rfr = RandomForestClassifier(n_estimators = 30, n_jobs = 1,\n",
    "                             max_leaf_nodes=10,max_depth=7,\n",
    "                            random_state = 2016, verbose = 1,\n",
    "                             class_weight='balanced', oob_score=True)\n",
    "     \n",
    "rfr.fit(X_train,y_train.ravel()), X_train, X_test, y_train, y_test\n",
    "#             print(X_train.columns)\n",
    "print(rfr.score(X_test, y_test, sample_weight=None))"
   ]
  },
  {
   "cell_type": "code",
   "execution_count": null,
   "metadata": {
    "collapsed": true
   },
   "outputs": [],
   "source": []
  },
  {
   "cell_type": "code",
   "execution_count": null,
   "metadata": {
    "collapsed": true
   },
   "outputs": [],
   "source": []
  },
  {
   "cell_type": "code",
   "execution_count": null,
   "metadata": {
    "collapsed": true
   },
   "outputs": [],
   "source": []
  },
  {
   "cell_type": "code",
   "execution_count": null,
   "metadata": {
    "collapsed": true
   },
   "outputs": [],
   "source": []
  },
  {
   "cell_type": "code",
   "execution_count": null,
   "metadata": {
    "collapsed": true
   },
   "outputs": [],
   "source": []
  },
  {
   "cell_type": "code",
   "execution_count": null,
   "metadata": {
    "collapsed": true
   },
   "outputs": [],
   "source": []
  }
 ],
 "metadata": {
  "anaconda-cloud": {},
  "kernelspec": {
   "display_name": "Python [default]",
   "language": "python",
   "name": "python3"
  },
  "language_info": {
   "codemirror_mode": {
    "name": "ipython",
    "version": 3
   },
   "file_extension": ".py",
   "mimetype": "text/x-python",
   "name": "python",
   "nbconvert_exporter": "python",
   "pygments_lexer": "ipython3",
   "version": "3.5.2"
  }
 },
 "nbformat": 4,
 "nbformat_minor": 1
}
